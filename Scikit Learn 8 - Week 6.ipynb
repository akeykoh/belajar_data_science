{
 "cells": [
  {
   "attachments": {
    "machine_learning_python_scikitlearn.jpg": {
     "image/jpeg": "[encoded data removed]"
    }
   },
   "cell_type": "markdown",
   "metadata": {},
   "source": [
    "![machine_learning_python_scikitlearn.jpg](attachment:machine_learning_python_scikitlearn.jpg)\n",
    "\n",
    "# BID01 - Pengenalan Data Science\n",
    "\n",
    "Nama: Angelique Keyko Haryono\n",
    "\n",
    "NRP: 2073016"
   ]
  },
  {
   "cell_type": "markdown",
   "metadata": {},
   "source": [
    "### Week 7 - Multiple Linear Regression & Polynomial Regression\n",
    "\n",
    "1. Sample Dataset\n",
    "2. Preprocessing Dataset\n",
    "3. Multiple Linear Regression\n",
    "4. Polynomial Regression\n",
    "5. Polynomial Regression: Quadratic\n",
    "6. Polynomial Regression: Quadratic vs Cubic"
   ]
  },
  {
   "cell_type": "markdown",
   "metadata": {},
   "source": [
    "#### Sample Dataset\n",
    "\n",
    "Pada contoh ini, kita akan membentuk dataset dengan format pandas dataframe yang berisi daftar diameter, jumlah topping, dan harga pizza."
   ]
  },
  {
   "cell_type": "markdown",
   "metadata": {},
   "source": [
    "- Training Dataset"
   ]
  },
  {
   "cell_type": "code",
   "execution_count": 6,
   "metadata": {},
   "outputs": [
    {
     "data": {
      "text/html": [
       "<div>\n",
       "<style scoped>\n",
       "    .dataframe tbody tr th:only-of-type {\n",
       "        vertical-align: middle;\n",
       "    }\n",
       "\n",
       "    .dataframe tbody tr th {\n",
       "        vertical-align: top;\n",
       "    }\n",
       "\n",
       "    .dataframe thead th {\n",
       "        text-align: right;\n",
       "    }\n",
       "</style>\n",
       "<table border=\"1\" class=\"dataframe\">\n",
       "  <thead>\n",
       "    <tr style=\"text-align: right;\">\n",
       "      <th></th>\n",
       "      <th>diameter</th>\n",
       "      <th>n_topping</th>\n",
       "      <th>harga</th>\n",
       "    </tr>\n",
       "  </thead>\n",
       "  <tbody>\n",
       "    <tr>\n",
       "      <th>0</th>\n",
       "      <td>6</td>\n",
       "      <td>2</td>\n",
       "      <td>7.0</td>\n",
       "    </tr>\n",
       "    <tr>\n",
       "      <th>1</th>\n",
       "      <td>8</td>\n",
       "      <td>1</td>\n",
       "      <td>9.0</td>\n",
       "    </tr>\n",
       "    <tr>\n",
       "      <th>2</th>\n",
       "      <td>10</td>\n",
       "      <td>0</td>\n",
       "      <td>13.0</td>\n",
       "    </tr>\n",
       "    <tr>\n",
       "      <th>3</th>\n",
       "      <td>14</td>\n",
       "      <td>2</td>\n",
       "      <td>17.5</td>\n",
       "    </tr>\n",
       "    <tr>\n",
       "      <th>4</th>\n",
       "      <td>18</td>\n",
       "      <td>0</td>\n",
       "      <td>18.0</td>\n",
       "    </tr>\n",
       "  </tbody>\n",
       "</table>\n",
       "</div>"
      ],
      "text/plain": [
       "   diameter  n_topping  harga\n",
       "0         6          2    7.0\n",
       "1         8          1    9.0\n",
       "2        10          0   13.0\n",
       "3        14          2   17.5\n",
       "4        18          0   18.0"
      ]
     },
     "execution_count": 6,
     "metadata": {},
     "output_type": "execute_result"
    }
   ],
   "source": [
    "# mengimport modul pandas\n",
    "import pandas as pd\n",
    "\n",
    "# menyiapkan dictionary dimana setiap keynya akan berasosiasi dengan list\n",
    "pizza = {'diameter': [6, 8, 10, 14, 18], # features\n",
    "        'n_topping': [2, 1, 0, 2, 0],    # features\n",
    "        'harga': [7, 9, 13, 17.5, 18]}   # target\n",
    "\n",
    "# membentuk object dataframe dari dictionary yang sudah dibentuk\n",
    "train_pizza_df = pd.DataFrame(pizza)\n",
    "\n",
    "# menampung object dataframe yang dibentuk dalam variable train_pizza_df\n",
    "train_pizza_df"
   ]
  },
  {
   "cell_type": "markdown",
   "metadata": {},
   "source": [
    "- Testing Dataset"
   ]
  },
  {
   "cell_type": "code",
   "execution_count": 7,
   "metadata": {},
   "outputs": [
    {
     "data": {
      "text/html": [
       "<div>\n",
       "<style scoped>\n",
       "    .dataframe tbody tr th:only-of-type {\n",
       "        vertical-align: middle;\n",
       "    }\n",
       "\n",
       "    .dataframe tbody tr th {\n",
       "        vertical-align: top;\n",
       "    }\n",
       "\n",
       "    .dataframe thead th {\n",
       "        text-align: right;\n",
       "    }\n",
       "</style>\n",
       "<table border=\"1\" class=\"dataframe\">\n",
       "  <thead>\n",
       "    <tr style=\"text-align: right;\">\n",
       "      <th></th>\n",
       "      <th>diameter</th>\n",
       "      <th>n_topping</th>\n",
       "      <th>harga</th>\n",
       "    </tr>\n",
       "  </thead>\n",
       "  <tbody>\n",
       "    <tr>\n",
       "      <th>0</th>\n",
       "      <td>8</td>\n",
       "      <td>2</td>\n",
       "      <td>11.0</td>\n",
       "    </tr>\n",
       "    <tr>\n",
       "      <th>1</th>\n",
       "      <td>9</td>\n",
       "      <td>0</td>\n",
       "      <td>8.5</td>\n",
       "    </tr>\n",
       "    <tr>\n",
       "      <th>2</th>\n",
       "      <td>11</td>\n",
       "      <td>2</td>\n",
       "      <td>15.0</td>\n",
       "    </tr>\n",
       "    <tr>\n",
       "      <th>3</th>\n",
       "      <td>16</td>\n",
       "      <td>2</td>\n",
       "      <td>18.0</td>\n",
       "    </tr>\n",
       "    <tr>\n",
       "      <th>4</th>\n",
       "      <td>12</td>\n",
       "      <td>0</td>\n",
       "      <td>11.0</td>\n",
       "    </tr>\n",
       "  </tbody>\n",
       "</table>\n",
       "</div>"
      ],
      "text/plain": [
       "   diameter  n_topping  harga\n",
       "0         8          2   11.0\n",
       "1         9          0    8.5\n",
       "2        11          2   15.0\n",
       "3        16          2   18.0\n",
       "4        12          0   11.0"
      ]
     },
     "execution_count": 7,
     "metadata": {},
     "output_type": "execute_result"
    }
   ],
   "source": [
    "# mengimport modul pandas\n",
    "import pandas as pd\n",
    "\n",
    "# menyiapkan dictionary dimana setiap keynya akan berasosiasi dengan list\n",
    "pizza = {'diameter': [8, 9, 11, 16, 12], # features\n",
    "        'n_topping': [2, 0, 2, 2, 0],    # features\n",
    "        'harga': [11, 8.5, 15, 18, 11]}  # target\n",
    "\n",
    "# membentuk object dataframe dari dictionary yang sudah dibentuk\n",
    "test_pizza_df = pd.DataFrame(pizza)\n",
    "\n",
    "# menampung object dataframe yang dibentuk dalam variable test_pizza_df\n",
    "test_pizza_df"
   ]
  },
  {
   "cell_type": "markdown",
   "metadata": {},
   "source": [
    "#### Preprocessing Dataset\n",
    "\n",
    "Kita akan melakukan pengelompokkan untuk sekumpulan nilai features dan nilai target dari dataset kita. Kita akan mengonversikan data diameter dan jumlah topping ke dalam numpy array, hasil konversi ini akan ditampung dalam variable X_train untuk training dataset. Data harga juga akan dikonversikan ke dalam numpy array, hasil konversi ini akan ditampung dalam variable y_train untuk training dataset. Kita juga akan melakukan hal yang sama untuk testing dataset."
   ]
  },
  {
   "cell_type": "code",
   "execution_count": 8,
   "metadata": {},
   "outputs": [
    {
     "name": "stdout",
     "output_type": "stream",
     "text": [
      "X_test:\n",
      "[[ 6  2]\n",
      " [ 8  1]\n",
      " [10  0]\n",
      " [14  2]\n",
      " [18  0]]\n",
      "\n",
      "y_test: [ 7.   9.  13.  17.5 18. ]\n"
     ]
    }
   ],
   "source": [
    "# mengimport modul numpy\n",
    "import numpy as np\n",
    "\n",
    "# melakukan konversi menjadi numpy array\n",
    "X_train = np.array(train_pizza_df[['diameter', 'n_topping']]) # sekumpulan nilai features\n",
    "y_train = np.array(train_pizza_df['harga'])                   # sekumpulan nilai target\n",
    "\n",
    "print(f'X_test:\\n{X_train}\\n')\n",
    "print(f'y_test: {y_train}')"
   ]
  },
  {
   "cell_type": "code",
   "execution_count": 9,
   "metadata": {},
   "outputs": [
    {
     "name": "stdout",
     "output_type": "stream",
     "text": [
      "X_test:\n",
      "[[ 8  2]\n",
      " [ 9  0]\n",
      " [11  2]\n",
      " [16  2]\n",
      " [12  0]]\n",
      "\n",
      "y_test: [11.   8.5 15.  18.  11. ]\n"
     ]
    }
   ],
   "source": [
    "# melakukan konversi menjadi numpy array\n",
    "X_test = np.array(test_pizza_df[['diameter', 'n_topping']]) # sekumpulan nilai features\n",
    "y_test = np.array(test_pizza_df['harga'])                   # sekumpulan nilai target\n",
    "\n",
    "print(f'X_test:\\n{X_test}\\n')\n",
    "print(f'y_test: {y_test}')"
   ]
  },
  {
   "cell_type": "markdown",
   "metadata": {},
   "source": [
    "#### Multiple Linear Regression\n",
    "\n",
    "Multiple Linear Regression adalah generalisasi dari Simple Linear Regression yang memungkinkan untuk menggunakan beberapa explanatory variables.\n",
    "\n",
    "Perbedaan antara Simple Linear Regression dengan Multiple Linear Regression terletak dalam jumlah explanatory variable / features yang digunakan. Pada Simple Linear Regression hanya digunakan 1 explanatory variable untuk melakukan prediksi. Sedangkan pada Multiple Linear Regression digunakan lebih dari satu explanatory variable untuk melakukan prediksi.\n",
    "\n",
    "Berikut formula Multiple Linear Regression:\n",
    "\n",
    "$y = \\alpha + \\beta_1x_1 + \\beta_2x_2 + ... + \\beta_nx_n$\n",
    "\n",
    "Berikut link referensi untuk mempelajari Linear Regression lebih lanjut:\n",
    "https://en.wikipedia.org/wiki/Linear_regression"
   ]
  },
  {
   "cell_type": "code",
   "execution_count": 13,
   "metadata": {},
   "outputs": [
    {
     "name": "stdout",
     "output_type": "stream",
     "text": [
      "r_squared: 0.7701677731318468\n"
     ]
    }
   ],
   "source": [
    "# melakukan import modul LinearRegression dan r2_score\n",
    "from sklearn.linear_model import LinearRegression\n",
    "from sklearn.metrics import r2_score\n",
    "\n",
    "# membentuk object model\n",
    "model = LinearRegression()\n",
    "\n",
    "# melakukan proses training model\n",
    "model.fit(X_train, y_train)\n",
    "\n",
    "# melakukan proses prediksi\n",
    "y_pred = model.predict(X_test)\n",
    "\n",
    "print(f'r_squared: {r2_score(y_test, y_pred)}')"
   ]
  },
  {
   "cell_type": "markdown",
   "metadata": {},
   "source": [
    "#### Polynomial Regression\n",
    "\n",
    "Polynomial Regression memodelkan hubungan antara independent variable (features) $x$ dan dependent variable (target) $y$ sebagai derajat polinomial dalam $x$. Berikut link referensi untuk mempelajari Polynomial Regression lebih lanjut:\n",
    "https://en.wikipedia.org/wiki/Polynomial_regression"
   ]
  },
  {
   "cell_type": "markdown",
   "metadata": {},
   "source": [
    "- Preprocessing Dataset\n",
    "\n",
    "Disini kita hanya akan menggunakan 1 features yaitu diameter."
   ]
  },
  {
   "cell_type": "code",
   "execution_count": 18,
   "metadata": {},
   "outputs": [
    {
     "name": "stdout",
     "output_type": "stream",
     "text": [
      "X_train:\n",
      "[[ 6]\n",
      " [ 8]\n",
      " [10]\n",
      " [14]\n",
      " [18]]\n",
      "\n",
      "y_train: [ 7.   9.  13.  17.5 18. ]\n"
     ]
    }
   ],
   "source": [
    "# membentuk features menjadi numpy array dan melakukan reshape menjadi array 2 dimensi.\n",
    "X_train = np.array(train_pizza_df['diameter']).reshape(-1, 1)\n",
    "\n",
    "# membentuk target menjadi numpy array\n",
    "y_train = np.array(train_pizza_df['harga'])\n",
    "\n",
    "print(f'X_train:\\n{X_train}\\n')\n",
    "print(f'y_train: {y_train}')"
   ]
  },
  {
   "cell_type": "markdown",
   "metadata": {},
   "source": [
    "#### Polynomial Regression: Quadratic\n",
    "\n",
    "Untuk contoh kali ini, kita akan mempelajari derajat polynomial dua atau quadratic. Berikut formula Quadratic Polynomial Regression:\n",
    "\n",
    "$y = \\alpha + \\beta_1x + \\beta_2x^2$"
   ]
  },
  {
   "cell_type": "markdown",
   "metadata": {},
   "source": [
    "- Polynomial Features"
   ]
  },
  {
   "cell_type": "code",
   "execution_count": 19,
   "metadata": {},
   "outputs": [
    {
     "name": "stdout",
     "output_type": "stream",
     "text": [
      "X_train_quadratic:\n",
      "[[  1.   6.  36.]\n",
      " [  1.   8.  64.]\n",
      " [  1.  10. 100.]\n",
      " [  1.  14. 196.]\n",
      " [  1.  18. 324.]]\n",
      "\n"
     ]
    }
   ],
   "source": [
    "# mengimport modul PolynomialFeatures\n",
    "from sklearn.preprocessing import PolynomialFeatures\n",
    "\n",
    "# membentuk object PolynomialFeatures\n",
    "quadratic_feature = PolynomialFeatures(degree=2)\n",
    "\n",
    "# melakukan proses transformasi\n",
    "X_train_quadratic = quadratic_feature.fit_transform(X_train)\n",
    "\n",
    "print(f'X_train_quadratic:\\n{X_train_quadratic}\\n')"
   ]
  },
  {
   "cell_type": "markdown",
   "metadata": {},
   "source": [
    "- Training Model"
   ]
  },
  {
   "cell_type": "code",
   "execution_count": 21,
   "metadata": {},
   "outputs": [
    {
     "data": {
      "text/plain": [
       "LinearRegression()"
      ]
     },
     "execution_count": 21,
     "metadata": {},
     "output_type": "execute_result"
    }
   ],
   "source": [
    "# membentuk object model\n",
    "model = LinearRegression()\n",
    "\n",
    "# melakukan training model dengan memanfaatkan nilai features yang sudah diransformasikan ke dalam polynomial\n",
    "model.fit(X_train_quadratic, y_train)"
   ]
  },
  {
   "cell_type": "markdown",
   "metadata": {},
   "source": [
    "- Visualisasi Model"
   ]
  },
  {
   "cell_type": "code",
   "execution_count": 22,
   "metadata": {},
   "outputs": [
    {
     "data": {
      "image/png": "[encoded data removed]",
      "text/plain": [
       "<Figure size 432x288 with 1 Axes>"
      ]
     },
     "metadata": {
      "needs_background": "light"
     },
     "output_type": "display_data"
    }
   ],
   "source": [
    "# mengimport modul\n",
    "import matplotlib.pyplot as plt\n",
    "\n",
    "# membentuk deret bilangan dan melakukan reshape\n",
    "X_vis = np.linspace(0, 25, 100).reshape(-1, 1)\n",
    "\n",
    "# melakukan proses transformasi\n",
    "X_vis_quadratic = quadratic_feature.transform(X_vis)\n",
    "\n",
    "# melakukan proses prediksi\n",
    "y_vis_quadratic = model.predict(X_vis_quadratic)\n",
    "\n",
    "# melakukan visualisasi untuk data point yang digunakan untuk proses training (scatter plot)\n",
    "plt.scatter(X_train, y_train)\n",
    "\n",
    "# melakukan visualisasi untuk hasil prediksi dari model (line plot)\n",
    "plt.plot(X_vis, y_vis_quadratic, '-r')\n",
    "\n",
    "# melakukan pengaturan title dan label\n",
    "plt.title('Perbandingan Diameter dengan Harga Pizza')\n",
    "plt.xlabel('Diameter (inch)')\n",
    "plt.ylabel('Harga (dollar)')\n",
    "\n",
    "# melakukan set limit \n",
    "plt.xlim(0, 25)\n",
    "plt.ylim(0, 25)\n",
    "\n",
    "# mengaktifkan grid\n",
    "plt.grid(True)\n",
    "\n",
    "# menunjukkan hasil scatter plot\n",
    "plt.show()"
   ]
  },
  {
   "cell_type": "markdown",
   "metadata": {},
   "source": [
    "#### Polynomial Regression: Quadratic vs Cubic\n",
    "\n",
    "Kita akan membandingkan model Simple Linear Regression, Quadratic Polynomial Regression, dan Cubic Polynomial Regression."
   ]
  },
  {
   "cell_type": "code",
   "execution_count": 23,
   "metadata": {},
   "outputs": [
    {
     "data": {
      "image/png": "[encoded data removed]",
      "text/plain": [
       "<Figure size 432x288 with 1 Axes>"
      ]
     },
     "metadata": {
      "needs_background": "light"
     },
     "output_type": "display_data"
    }
   ],
   "source": [
    "# melakukan plotting training set \n",
    "plt.scatter(X_train, y_train)\n",
    "\n",
    "# linear\n",
    "# membentuk object LinearRegression\n",
    "model = LinearRegression()\n",
    "# melakukan proses training\n",
    "model.fit(X_train, y_train)\n",
    "# membentuk deret bilangan dan melakukan reshape\n",
    "X_vis = np.linspace(0, 25, 100).reshape(-1, 1)\n",
    "# melakukan proses prediksi\n",
    "y_vis = model.predict(X_vis)\n",
    "# melakukan plotting\n",
    "plt.plot(X_vis, y_vis, '--r', label='linear')\n",
    "\n",
    "# Quadratic\n",
    "# membentuk object PolynomialFeatures dan memberi nilai 2 pada parameter degree\n",
    "quadratic_feature = PolynomialFeatures(degree=2)\n",
    "# melakukan proses transformasi\n",
    "X_train_quadratic = quadratic_feature.fit_transform(X_train)\n",
    "# membentuk object LinearRegression\n",
    "model = LinearRegression()\n",
    "# melakukan proses training menggunakan model yang sudah ditransformasikan ke dalam quadratic polynomial\n",
    "model.fit(X_train_quadratic, y_train)\n",
    "# melakukan proses transformasi\n",
    "X_vis_quadratic = quadratic_feature.transform(X_vis)\n",
    "# melakukan proses prediksi\n",
    "y_vis = model.predict(X_vis_quadratic)\n",
    "# melakukan plotting\n",
    "plt.plot(X_vis, y_vis, '--g', label='quadratic')\n",
    "\n",
    "# Cubic\n",
    "# membentuk object PolynomialFeatures dan memberi nilai 3 pada parameter degree\n",
    "cubic_feature = PolynomialFeatures(degree=3)\n",
    "# melakukan proses transformasi\n",
    "X_train_cubic = cubic_feature.fit_transform(X_train)\n",
    "# membentuk object LinearRegression\n",
    "model = LinearRegression()\n",
    "# melakukan proses training menggunakan model yang sudah ditransformasikan ke dalam cubic polynomial\n",
    "model.fit(X_train_cubic, y_train)\n",
    "# melakukan proses transformasi\n",
    "X_vis_cubic = cubic_feature.transform(X_vis)\n",
    "# melakukan proses prediksi\n",
    "y_vis = model.predict(X_vis_cubic)\n",
    "# melakukan plotting\n",
    "plt.plot(X_vis, y_vis, '--y', label='cubic')\n",
    "\n",
    "# melakukan pengaturan title dan label\n",
    "plt.title('Perbandingan Diameter dengan Harga Pizza')\n",
    "plt.xlabel('Diameter (inch)')\n",
    "plt.ylabel('Harga (dollar)')\n",
    "\n",
    "# melakukan set limit \n",
    "plt.xlim(0, 25)\n",
    "plt.ylim(0, 25)\n",
    "\n",
    "# mengaktifkan grid\n",
    "plt.grid(True)\n",
    "\n",
    "# menunjukkan hasil scatter plot\n",
    "plt.show()"
   ]
  }
 ],
 "metadata": {
  "kernelspec": {
   "display_name": "Python 3",
   "language": "python",
   "name": "python3"
  },
  "language_info": {
   "codemirror_mode": {
    "name": "ipython",
    "version": 3
   },
   "file_extension": ".py",
   "mimetype": "text/x-python",
   "name": "python",
   "nbconvert_exporter": "python",
   "pygments_lexer": "ipython3",
   "version": "3.8.5"
  }
 },
 "nbformat": 4,
 "nbformat_minor": 4
}
