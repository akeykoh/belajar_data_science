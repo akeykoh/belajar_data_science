{
 "cells": [
  {
   "attachments": {
    "machine_learning_python_scikitlearn.jpg": {
     "image/jpeg": "[encoded data removed]"
    }
   },
   "cell_type": "markdown",
   "metadata": {},
   "source": [
    "![machine_learning_python_scikitlearn.jpg](attachment:machine_learning_python_scikitlearn.jpg)\n",
    "\n",
    "# BID01 - Pengenalan Data Science\n",
    "\n",
    "Nama: Angelique Keyko Haryono\n",
    "\n",
    "NRP: 2073016"
   ]
  },
  {
   "cell_type": "markdown",
   "metadata": {},
   "source": [
    "### Week 5 - Classification dengan K-Nearest Neighbours\n",
    "\n",
    "1. Sample Dataset\n",
    "2. Classification dengan K-Nearest Neighbours\n",
    "3. Preprocessing Dataset\n",
    "4. Training KNN Classification Model"
   ]
  },
  {
   "cell_type": "markdown",
   "metadata": {},
   "source": [
    "KNN merupakan model machine learning yang dapat digunakan untuk melakukan prediksi berdasarkan kedekatan karakteristik dengan sejumlah tetangga terdekat. Prediksi yang dilakukan dapat diterapkan baik pada classification maupun regression tasks. Untuk mengetahui mengenai KKN, kita bisa membuka link referensi berikut:\n",
    "https://en.wikipedia.org/wiki/K-nearest_neighbors_algorithm"
   ]
  },
  {
   "cell_type": "markdown",
   "metadata": {},
   "source": [
    "#### Sample Dataset\n",
    "\n",
    "Pada contoh ini, kita akan membentuk dataset dengan format pandas dataframe yang berisi daftar tinggi dan berat badan partisipan beserta jenis kelaminnya."
   ]
  },
  {
   "cell_type": "code",
   "execution_count": 3,
   "metadata": {},
   "outputs": [
    {
     "data": {
      "text/html": [
       "<div>\n",
       "<style scoped>\n",
       "    .dataframe tbody tr th:only-of-type {\n",
       "        vertical-align: middle;\n",
       "    }\n",
       "\n",
       "    .dataframe tbody tr th {\n",
       "        vertical-align: top;\n",
       "    }\n",
       "\n",
       "    .dataframe thead th {\n",
       "        text-align: right;\n",
       "    }\n",
       "</style>\n",
       "<table border=\"1\" class=\"dataframe\">\n",
       "  <thead>\n",
       "    <tr style=\"text-align: right;\">\n",
       "      <th></th>\n",
       "      <th>tinggi</th>\n",
       "      <th>berat</th>\n",
       "      <th>jk</th>\n",
       "    </tr>\n",
       "  </thead>\n",
       "  <tbody>\n",
       "    <tr>\n",
       "      <th>0</th>\n",
       "      <td>158</td>\n",
       "      <td>64</td>\n",
       "      <td>pria</td>\n",
       "    </tr>\n",
       "    <tr>\n",
       "      <th>1</th>\n",
       "      <td>170</td>\n",
       "      <td>86</td>\n",
       "      <td>pria</td>\n",
       "    </tr>\n",
       "    <tr>\n",
       "      <th>2</th>\n",
       "      <td>183</td>\n",
       "      <td>84</td>\n",
       "      <td>pria</td>\n",
       "    </tr>\n",
       "    <tr>\n",
       "      <th>3</th>\n",
       "      <td>191</td>\n",
       "      <td>80</td>\n",
       "      <td>pria</td>\n",
       "    </tr>\n",
       "    <tr>\n",
       "      <th>4</th>\n",
       "      <td>155</td>\n",
       "      <td>49</td>\n",
       "      <td>wanita</td>\n",
       "    </tr>\n",
       "    <tr>\n",
       "      <th>5</th>\n",
       "      <td>163</td>\n",
       "      <td>59</td>\n",
       "      <td>wanita</td>\n",
       "    </tr>\n",
       "    <tr>\n",
       "      <th>6</th>\n",
       "      <td>180</td>\n",
       "      <td>67</td>\n",
       "      <td>wanita</td>\n",
       "    </tr>\n",
       "    <tr>\n",
       "      <th>7</th>\n",
       "      <td>158</td>\n",
       "      <td>54</td>\n",
       "      <td>wanita</td>\n",
       "    </tr>\n",
       "    <tr>\n",
       "      <th>8</th>\n",
       "      <td>178</td>\n",
       "      <td>67</td>\n",
       "      <td>wanita</td>\n",
       "    </tr>\n",
       "  </tbody>\n",
       "</table>\n",
       "</div>"
      ],
      "text/plain": [
       "   tinggi  berat      jk\n",
       "0     158     64    pria\n",
       "1     170     86    pria\n",
       "2     183     84    pria\n",
       "3     191     80    pria\n",
       "4     155     49  wanita\n",
       "5     163     59  wanita\n",
       "6     180     67  wanita\n",
       "7     158     54  wanita\n",
       "8     178     67  wanita"
      ]
     },
     "execution_count": 3,
     "metadata": {},
     "output_type": "execute_result"
    }
   ],
   "source": [
    "# mengimport modul pandas\n",
    "import pandas as pd\n",
    "\n",
    "# menyiapkan dictionary dimana setiap keynya akan berasosiasi dengan list\n",
    "sensus = {\n",
    "    'tinggi': [158, 170, 183, 191, 155, 163, 180, 158, 178], # features\n",
    "    'berat': [64, 86, 84, 80, 49, 59, 67, 54, 67],           # features\n",
    "    'jk': [\n",
    "        'pria', 'pria', 'pria', 'pria', 'wanita', 'wanita', 'wanita', 'wanita', # target\n",
    "        'wanita'\n",
    "    ]\n",
    "}\n",
    "\n",
    "# membentuk object dataframe dari dictionary yang sudah dibentuk\n",
    "sensus_df = pd.DataFrame(sensus)\n",
    "\n",
    "# menampung object dataframe yang dibentuk dalam variable sensus_df\n",
    "sensus_df"
   ]
  },
  {
   "cell_type": "markdown",
   "metadata": {},
   "source": [
    "#### Visualisasi Data\n",
    "\n",
    "Pada contoh ini, kita akan melakukan visualisasi dataset yang sudah kita bentuk menjadi scatter plot. Sumbu x akan berasosiasi dengan tinggi badan. Sumbu y akan berasosiasi dengan berat badan."
   ]
  },
  {
   "cell_type": "code",
   "execution_count": 5,
   "metadata": {},
   "outputs": [
    {
     "data": {
      "image/png": "[encoded data removed]",
      "text/plain": [
       "<Figure size 432x288 with 1 Axes>"
      ]
     },
     "metadata": {
      "needs_background": "light"
     },
     "output_type": "display_data"
    }
   ],
   "source": [
    "# mengimport modul matplotlib.pyplot\n",
    "import matplotlib.pyplot as plt\n",
    "\n",
    "# membentuk subplots\n",
    "fig,ax = plt.subplots()\n",
    "\n",
    "# melakukan looping terhadap data sensus\n",
    "for jk, d in sensus_df.groupby('jk'):\n",
    "    ax.scatter(d['tinggi'], d['berat'], label=jk)\n",
    "\n",
    "# mengaktifkan label\n",
    "plt.legend(loc='upper left')\n",
    "\n",
    "# melakukan pengaturan title dan label\n",
    "plt.title('Sebaran Data Tinggi Badan, Berat Badan, dan Jenis Kelamin')\n",
    "plt.xlabel('Tinggi Badan (cm)')\n",
    "plt.ylabel('Berat Badan (kg)')\n",
    "\n",
    "# mengaktifkan grid\n",
    "plt.grid(True)\n",
    "\n",
    "# menunjukkan hasil scatter plot\n",
    "plt.show()"
   ]
  },
  {
   "cell_type": "markdown",
   "metadata": {},
   "source": [
    "Pada contoh kali ini kita akan menerapkan KNN untuk mengklasifikasi jenis kelamin berdasarkan data tinggi dan berat badan. Model machine learning KKN akan memprediksi jenis kelamin berdasarkan kemiripan features dengan data set yang dimiliki."
   ]
  },
  {
   "cell_type": "markdown",
   "metadata": {},
   "source": [
    "#### Preprocessing Dataset\n",
    "\n",
    "Kita harus melakukan penyesuaian untuk dataset kita. Kita akan mengonversikan data tinggi badan dan berat badan ke dalam numpy array, hasil konversi ini akan ditampung dalam variable X_train. Data jenis kelamin juga akan dikonversikan ke dalam numpy array, hasil konversi ini akan ditampung dalam variable y_train. "
   ]
  },
  {
   "cell_type": "code",
   "execution_count": 6,
   "metadata": {},
   "outputs": [
    {
     "name": "stdout",
     "output_type": "stream",
     "text": [
      "X_train:\n",
      "[[158  64]\n",
      " [170  86]\n",
      " [183  84]\n",
      " [191  80]\n",
      " [155  49]\n",
      " [163  59]\n",
      " [180  67]\n",
      " [158  54]\n",
      " [178  67]]\n",
      "\n",
      "y_train: ['pria' 'pria' 'pria' 'pria' 'wanita' 'wanita' 'wanita' 'wanita' 'wanita']\n"
     ]
    }
   ],
   "source": [
    "# mengimport modul numpy\n",
    "import numpy as np\n",
    "\n",
    "# melakukan konversi menjadi numpy array\n",
    "X_train = np.array(sensus_df[['tinggi', 'berat']]) # sekumpulan nilai features\n",
    "y_train = np.array(sensus_df['jk'])                # sekumpulan nilai target\n",
    "\n",
    "print(f'X_train:\\n{X_train}\\n')\n",
    "print(f'y_train: {y_train}')"
   ]
  },
  {
   "cell_type": "markdown",
   "metadata": {},
   "source": [
    "Jika kita melihat nilai output diatas, nilai features sudah siap untuk digunakan dalam proses training. Tetapi nilai target yang kita miliki masih bertipe data String. Sebenarnya dalam kasus classification dengan KNN, tipe data String masih bisa diproses dengan baik. Tetapi nanti akan terdapat kendala ketika melakukan evaluasi model. Oleh karena itu, tipe data String ini akan kita ubah menjadi numerik. Kita bisa memanfaatkan LabelBinarizer. "
   ]
  },
  {
   "cell_type": "code",
   "execution_count": 9,
   "metadata": {},
   "outputs": [
    {
     "name": "stdout",
     "output_type": "stream",
     "text": [
      "y_train:\n",
      "[[0]\n",
      " [0]\n",
      " [0]\n",
      " [0]\n",
      " [1]\n",
      " [1]\n",
      " [1]\n",
      " [1]\n",
      " [1]]\n"
     ]
    }
   ],
   "source": [
    "# mengimport LabelBinarizer\n",
    "from sklearn.preprocessing import LabelBinarizer\n",
    "\n",
    "# membentuk object dari class LabelBinarizer\n",
    "lb = LabelBinarizer()\n",
    "\n",
    "# memanfaatkan object LabelBinarizer untuk melakukan transformasi data dalam variable y_train\n",
    "y_train = lb.fit_transform(y_train)\n",
    "\n",
    "# menunjukkan nilai y_train\n",
    "print(f'y_train:\\n{y_train}')\n",
    "\n",
    "# data bernilai 0 merepresentasikan data pria. \n",
    "# data bernilai 1 merepresentasikan data wanita."
   ]
  },
  {
   "cell_type": "markdown",
   "metadata": {},
   "source": [
    "Hasil transformasi data dengan LabelBinarizer untuk sekumpulan nilai target tersimpan dalam format array 2 dimensi. Oleh karena itu kita harus mengubahnya kembali menjadi array 1 dimensi."
   ]
  },
  {
   "cell_type": "code",
   "execution_count": 10,
   "metadata": {},
   "outputs": [
    {
     "name": "stdout",
     "output_type": "stream",
     "text": [
      "y_train: [0 0 0 0 1 1 1 1 1]\n"
     ]
    }
   ],
   "source": [
    "# mengubah menjadi array 1 dimensi\n",
    "y_train = y_train.flatten()\n",
    "print(f'y_train: {y_train}')"
   ]
  },
  {
   "cell_type": "markdown",
   "metadata": {},
   "source": [
    "#### Training KNN Classification Model\n",
    "\n",
    "Kita akan melakukan training dataset menggunakan KNN Classification Model. Yang perlu kita lakukan adalah mengimport `KNeighborsClassifier`. `KNeighborsClassifier` memiliki 1 parameter yang harus kita definisikan yaitu parameter `K`. Parameter `K` berguna untuk menentukan jumlah tetangga terdekat yang akan dilibatkan untuk proses prediksi. Dalam pembentukan object class `KNeighborsClassifier`, terdapat 1 parameter yaitu `n_neighbors`. Pada contoh ini parameter tersebut diisi nilai `K`. "
   ]
  },
  {
   "cell_type": "code",
   "execution_count": null,
   "metadata": {},
   "outputs": [],
   "source": [
    "# import estimator class KNeighborsClassifier\n",
    "from sklearn.neighbors import KNeighborsClassifier\n",
    "\n",
    "K = 3\n",
    "\n",
    "# membentuk object dari class KNeighborsClassifier\n",
    "model = KNeighborsClassifier(n_neighbors=K)\n",
    "\n",
    "# melakukan training data set \n",
    "model.fit(X_train, y_train)"
   ]
  }
 ],
 "metadata": {
  "kernelspec": {
   "display_name": "Python 3",
   "language": "python",
   "name": "python3"
  },
  "language_info": {
   "codemirror_mode": {
    "name": "ipython",
    "version": 3
   },
   "file_extension": ".py",
   "mimetype": "text/x-python",
   "name": "python",
   "nbconvert_exporter": "python",
   "pygments_lexer": "ipython3",
   "version": "3.8.5"
  }
 },
 "nbformat": 4,
 "nbformat_minor": 4
}
